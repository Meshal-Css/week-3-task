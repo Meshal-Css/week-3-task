{
 "cells": [
  {
   "cell_type": "markdown",
   "id": "9ae4cc02",
   "metadata": {
    "id": "9ae4cc02"
   },
   "source": [
    "# Ensemble Methods Notebook\n",
    "Welcome to the weekly project on Ensemble Methods. You will be working with a dataset of traffic jams.\n",
    "\n",
    "## Dataset\n",
    "The dataset that will be used in this task is `Traffic_Jam.csv`\n",
    "\n",
    "## Instructions\n",
    "- Follow the steps outlined below.\n",
    "- Write your code in the empty code cells.\n",
    "- Comment on your code to explain your reasoning.\n",
    "\n",
    "## Dataset Overview\n",
    "This dataset contains traffic data including various counts of vehicle types across different times and days. Below are samples of these columns:\n",
    "\n",
    "* `Time`: The timestamp of the traffic count (in intervals).\n",
    "* `Date`: The day of the month the data was recorded.\n",
    "* `Day of the Week`: The day of the week for the recorded data.\n",
    "* `CarCount`: The number of cars counted during the time interval.\n",
    "* `BikeCount`: The number of bikes counted during the time interval.\n",
    "* `BusCount`: The number of buses counted during the time interval.\n",
    "* `TruckCount`: The number of trucks counted during the time interval.\n",
    "* `Total`: Total vehicles counted during the time interval.\n",
    "* `Traffic Situation`: Qualitative assessment of the traffic (e.g., normal, congested).\n",
    "\n",
    "## Goal\n",
    "The primary goal of this exam is to develop a predictive model capable of determining the `Traffic Situation` based on your choice of features provided in the dataset. Students are expected to apply ensemble methods to build and evaluate their models."
   ]
  },
  {
   "cell_type": "markdown",
   "id": "0243f5f9",
   "metadata": {
    "id": "0243f5f9"
   },
   "source": [
    "# Import Libraries"
   ]
  },
  {
   "cell_type": "code",
   "execution_count": 93,
   "id": "cd906704",
   "metadata": {
    "id": "cd906704"
   },
   "outputs": [],
   "source": [
    "# step 1 >> libraries\n",
    "import pandas as pd\n",
    "import numpy as np\n",
    "import matplotlib.pyplot as plt\n",
    "import seaborn as sns\n",
    "from sklearn.model_selection import train_test_split\n",
    "from sklearn.ensemble import BaggingClassifier\n",
    "from sklearn.tree import DecisionTreeClassifier\n",
    "from sklearn.metrics import accuracy_score, f1_score, recall_score, precision_score\n",
    "from sklearn.preprocessing import LabelEncoder\n",
    "from sklearn.preprocessing import StandardScaler\n",
    "from sklearn.ensemble import RandomForestClassifier, AdaBoostClassifier, GradientBoostingClassifier\n",
    "from sklearn.metrics import accuracy_score, confusion_matrix, classification_report\n",
    "import plotly.graph_objects as go"
   ]
  },
  {
   "cell_type": "markdown",
   "id": "3bc0f20e",
   "metadata": {
    "id": "3bc0f20e"
   },
   "source": [
    "# Load the dataset\n"
   ]
  },
  {
   "cell_type": "code",
   "execution_count": 2,
   "id": "47ecb305",
   "metadata": {
    "id": "47ecb305"
   },
   "outputs": [],
   "source": [
    "df = pd.read_csv('Traffic_Jams.csv')"
   ]
  },
  {
   "cell_type": "markdown",
   "id": "41f23906",
   "metadata": {
    "id": "41f23906"
   },
   "source": [
    "# Exploratory Data Analysis (EDA)\n",
    "\n",
    "Below are some steps and visualizations to perform EDA on the dataset:\n",
    "\n",
    "1. **Summary Statistics**: Obtain summary statistics for the dataset to understand the central tendencies and dispersion of numerical features.describe()\n",
    "\n",
    "2. **Distribution of the Target Variable**: Analyze the distribution of the target variable `Traffic Situation` to understand the class balance.\n",
    "\n",
    "3. **Correlation Analysis**: Analyze correlations between features."
   ]
  },
  {
   "cell_type": "code",
   "execution_count": 3,
   "id": "140e99fb",
   "metadata": {
    "id": "140e99fb"
   },
   "outputs": [
    {
     "data": {
      "text/html": [
       "<div>\n",
       "<style scoped>\n",
       "    .dataframe tbody tr th:only-of-type {\n",
       "        vertical-align: middle;\n",
       "    }\n",
       "\n",
       "    .dataframe tbody tr th {\n",
       "        vertical-align: top;\n",
       "    }\n",
       "\n",
       "    .dataframe thead th {\n",
       "        text-align: right;\n",
       "    }\n",
       "</style>\n",
       "<table border=\"1\" class=\"dataframe\">\n",
       "  <thead>\n",
       "    <tr style=\"text-align: right;\">\n",
       "      <th></th>\n",
       "      <th>Time</th>\n",
       "      <th>Date</th>\n",
       "      <th>Day of the week</th>\n",
       "      <th>CarCount</th>\n",
       "      <th>BikeCount</th>\n",
       "      <th>BusCount</th>\n",
       "      <th>TruckCount</th>\n",
       "      <th>Total</th>\n",
       "      <th>Traffic Situation</th>\n",
       "    </tr>\n",
       "  </thead>\n",
       "  <tbody>\n",
       "    <tr>\n",
       "      <th>0</th>\n",
       "      <td>12:00:00 AM</td>\n",
       "      <td>10</td>\n",
       "      <td>Tuesday</td>\n",
       "      <td>13</td>\n",
       "      <td>2</td>\n",
       "      <td>2</td>\n",
       "      <td>24</td>\n",
       "      <td>41</td>\n",
       "      <td>normal</td>\n",
       "    </tr>\n",
       "    <tr>\n",
       "      <th>1</th>\n",
       "      <td>12:15:00 AM</td>\n",
       "      <td>10</td>\n",
       "      <td>Tuesday</td>\n",
       "      <td>14</td>\n",
       "      <td>1</td>\n",
       "      <td>1</td>\n",
       "      <td>36</td>\n",
       "      <td>52</td>\n",
       "      <td>normal</td>\n",
       "    </tr>\n",
       "    <tr>\n",
       "      <th>2</th>\n",
       "      <td>12:30:00 AM</td>\n",
       "      <td>10</td>\n",
       "      <td>Tuesday</td>\n",
       "      <td>10</td>\n",
       "      <td>2</td>\n",
       "      <td>2</td>\n",
       "      <td>32</td>\n",
       "      <td>46</td>\n",
       "      <td>normal</td>\n",
       "    </tr>\n",
       "    <tr>\n",
       "      <th>3</th>\n",
       "      <td>12:45:00 AM</td>\n",
       "      <td>10</td>\n",
       "      <td>Tuesday</td>\n",
       "      <td>10</td>\n",
       "      <td>2</td>\n",
       "      <td>2</td>\n",
       "      <td>36</td>\n",
       "      <td>50</td>\n",
       "      <td>normal</td>\n",
       "    </tr>\n",
       "    <tr>\n",
       "      <th>4</th>\n",
       "      <td>1:00:00 AM</td>\n",
       "      <td>10</td>\n",
       "      <td>Tuesday</td>\n",
       "      <td>11</td>\n",
       "      <td>2</td>\n",
       "      <td>1</td>\n",
       "      <td>34</td>\n",
       "      <td>48</td>\n",
       "      <td>normal</td>\n",
       "    </tr>\n",
       "  </tbody>\n",
       "</table>\n",
       "</div>"
      ],
      "text/plain": [
       "          Time  Date Day of the week  CarCount  BikeCount  BusCount  \\\n",
       "0  12:00:00 AM    10         Tuesday        13          2         2   \n",
       "1  12:15:00 AM    10         Tuesday        14          1         1   \n",
       "2  12:30:00 AM    10         Tuesday        10          2         2   \n",
       "3  12:45:00 AM    10         Tuesday        10          2         2   \n",
       "4   1:00:00 AM    10         Tuesday        11          2         1   \n",
       "\n",
       "   TruckCount  Total Traffic Situation  \n",
       "0          24     41            normal  \n",
       "1          36     52            normal  \n",
       "2          32     46            normal  \n",
       "3          36     50            normal  \n",
       "4          34     48            normal  "
      ]
     },
     "execution_count": 3,
     "metadata": {},
     "output_type": "execute_result"
    }
   ],
   "source": [
    "df.head()"
   ]
  },
  {
   "cell_type": "code",
   "execution_count": 4,
   "id": "baed290c",
   "metadata": {},
   "outputs": [
    {
     "data": {
      "text/html": [
       "<div>\n",
       "<style scoped>\n",
       "    .dataframe tbody tr th:only-of-type {\n",
       "        vertical-align: middle;\n",
       "    }\n",
       "\n",
       "    .dataframe tbody tr th {\n",
       "        vertical-align: top;\n",
       "    }\n",
       "\n",
       "    .dataframe thead th {\n",
       "        text-align: right;\n",
       "    }\n",
       "</style>\n",
       "<table border=\"1\" class=\"dataframe\">\n",
       "  <thead>\n",
       "    <tr style=\"text-align: right;\">\n",
       "      <th></th>\n",
       "      <th>Date</th>\n",
       "      <th>CarCount</th>\n",
       "      <th>BikeCount</th>\n",
       "      <th>BusCount</th>\n",
       "      <th>TruckCount</th>\n",
       "      <th>Total</th>\n",
       "    </tr>\n",
       "  </thead>\n",
       "  <tbody>\n",
       "    <tr>\n",
       "      <th>count</th>\n",
       "      <td>6324.000000</td>\n",
       "      <td>6324.000000</td>\n",
       "      <td>6324.000000</td>\n",
       "      <td>6324.000000</td>\n",
       "      <td>6324.000000</td>\n",
       "      <td>6324.000000</td>\n",
       "    </tr>\n",
       "    <tr>\n",
       "      <th>mean</th>\n",
       "      <td>16.043327</td>\n",
       "      <td>64.355629</td>\n",
       "      <td>12.013283</td>\n",
       "      <td>12.557875</td>\n",
       "      <td>18.658128</td>\n",
       "      <td>107.584915</td>\n",
       "    </tr>\n",
       "    <tr>\n",
       "      <th>std</th>\n",
       "      <td>8.956907</td>\n",
       "      <td>44.307088</td>\n",
       "      <td>11.363955</td>\n",
       "      <td>12.319831</td>\n",
       "      <td>10.724822</td>\n",
       "      <td>55.850784</td>\n",
       "    </tr>\n",
       "    <tr>\n",
       "      <th>min</th>\n",
       "      <td>1.000000</td>\n",
       "      <td>5.000000</td>\n",
       "      <td>0.000000</td>\n",
       "      <td>0.000000</td>\n",
       "      <td>0.000000</td>\n",
       "      <td>21.000000</td>\n",
       "    </tr>\n",
       "    <tr>\n",
       "      <th>25%</th>\n",
       "      <td>8.000000</td>\n",
       "      <td>18.000000</td>\n",
       "      <td>3.000000</td>\n",
       "      <td>1.000000</td>\n",
       "      <td>10.000000</td>\n",
       "      <td>53.000000</td>\n",
       "    </tr>\n",
       "    <tr>\n",
       "      <th>50%</th>\n",
       "      <td>16.000000</td>\n",
       "      <td>61.000000</td>\n",
       "      <td>9.000000</td>\n",
       "      <td>10.000000</td>\n",
       "      <td>18.000000</td>\n",
       "      <td>103.000000</td>\n",
       "    </tr>\n",
       "    <tr>\n",
       "      <th>75%</th>\n",
       "      <td>24.000000</td>\n",
       "      <td>101.250000</td>\n",
       "      <td>19.000000</td>\n",
       "      <td>20.000000</td>\n",
       "      <td>27.000000</td>\n",
       "      <td>151.000000</td>\n",
       "    </tr>\n",
       "    <tr>\n",
       "      <th>max</th>\n",
       "      <td>31.000000</td>\n",
       "      <td>180.000000</td>\n",
       "      <td>70.000000</td>\n",
       "      <td>50.000000</td>\n",
       "      <td>60.000000</td>\n",
       "      <td>279.000000</td>\n",
       "    </tr>\n",
       "  </tbody>\n",
       "</table>\n",
       "</div>"
      ],
      "text/plain": [
       "              Date     CarCount    BikeCount     BusCount   TruckCount  \\\n",
       "count  6324.000000  6324.000000  6324.000000  6324.000000  6324.000000   \n",
       "mean     16.043327    64.355629    12.013283    12.557875    18.658128   \n",
       "std       8.956907    44.307088    11.363955    12.319831    10.724822   \n",
       "min       1.000000     5.000000     0.000000     0.000000     0.000000   \n",
       "25%       8.000000    18.000000     3.000000     1.000000    10.000000   \n",
       "50%      16.000000    61.000000     9.000000    10.000000    18.000000   \n",
       "75%      24.000000   101.250000    19.000000    20.000000    27.000000   \n",
       "max      31.000000   180.000000    70.000000    50.000000    60.000000   \n",
       "\n",
       "             Total  \n",
       "count  6324.000000  \n",
       "mean    107.584915  \n",
       "std      55.850784  \n",
       "min      21.000000  \n",
       "25%      53.000000  \n",
       "50%     103.000000  \n",
       "75%     151.000000  \n",
       "max     279.000000  "
      ]
     },
     "execution_count": 4,
     "metadata": {},
     "output_type": "execute_result"
    }
   ],
   "source": [
    "df.describe()"
   ]
  },
  {
   "cell_type": "code",
   "execution_count": 5,
   "id": "befad4e3",
   "metadata": {},
   "outputs": [
    {
     "name": "stdout",
     "output_type": "stream",
     "text": [
      "<class 'pandas.core.frame.DataFrame'>\n",
      "RangeIndex: 6324 entries, 0 to 6323\n",
      "Data columns (total 9 columns):\n",
      " #   Column             Non-Null Count  Dtype \n",
      "---  ------             --------------  ----- \n",
      " 0   Time               6324 non-null   object\n",
      " 1   Date               6324 non-null   int64 \n",
      " 2   Day of the week    6324 non-null   object\n",
      " 3   CarCount           6324 non-null   int64 \n",
      " 4   BikeCount          6324 non-null   int64 \n",
      " 5   BusCount           6324 non-null   int64 \n",
      " 6   TruckCount         6324 non-null   int64 \n",
      " 7   Total              6324 non-null   int64 \n",
      " 8   Traffic Situation  6324 non-null   object\n",
      "dtypes: int64(6), object(3)\n",
      "memory usage: 444.8+ KB\n"
     ]
    }
   ],
   "source": [
    "df.info()"
   ]
  },
  {
   "cell_type": "code",
   "execution_count": 6,
   "id": "92fc1dfe",
   "metadata": {},
   "outputs": [
    {
     "data": {
      "text/plain": [
       "Time                 0\n",
       "Date                 0\n",
       "Day of the week      0\n",
       "CarCount             0\n",
       "BikeCount            0\n",
       "BusCount             0\n",
       "TruckCount           0\n",
       "Total                0\n",
       "Traffic Situation    0\n",
       "dtype: int64"
      ]
     },
     "execution_count": 6,
     "metadata": {},
     "output_type": "execute_result"
    }
   ],
   "source": [
    "df.isnull().sum() "
   ]
  },
  {
   "cell_type": "code",
   "execution_count": 8,
   "id": "fb8709a1",
   "metadata": {},
   "outputs": [
    {
     "data": {
      "text/plain": [
       "0"
      ]
     },
     "execution_count": 8,
     "metadata": {},
     "output_type": "execute_result"
    }
   ],
   "source": [
    "df.duplicated().sum()"
   ]
  },
  {
   "cell_type": "code",
   "execution_count": 9,
   "id": "cae3504d",
   "metadata": {},
   "outputs": [
    {
     "data": {
      "text/plain": [
       "<bound method DataFrame.corr of              Time  Date Day of the week  CarCount  BikeCount  BusCount  \\\n",
       "0     12:00:00 AM    10         Tuesday        13          2         2   \n",
       "1     12:15:00 AM    10         Tuesday        14          1         1   \n",
       "2     12:30:00 AM    10         Tuesday        10          2         2   \n",
       "3     12:45:00 AM    10         Tuesday        10          2         2   \n",
       "4      1:00:00 AM    10         Tuesday        11          2         1   \n",
       "...           ...   ...             ...       ...        ...       ...   \n",
       "6319  10:30:00 AM     9        Thursday        26         16        13   \n",
       "6320   8:00:00 PM     9        Thursday        72         25        10   \n",
       "6321   9:00:00 PM     9        Thursday       107         13        14   \n",
       "6322   9:30:00 PM     9        Thursday       106         18        13   \n",
       "6323  11:45:00 PM     9        Thursday        14          3         1   \n",
       "\n",
       "      TruckCount  Total Traffic Situation  \n",
       "0             24     41            normal  \n",
       "1             36     52            normal  \n",
       "2             32     46            normal  \n",
       "3             36     50            normal  \n",
       "4             34     48            normal  \n",
       "...          ...    ...               ...  \n",
       "6319          16     71            normal  \n",
       "6320          27    134              high  \n",
       "6321          28    162              high  \n",
       "6322          27    164              high  \n",
       "6323          15     33            normal  \n",
       "\n",
       "[6324 rows x 9 columns]>"
      ]
     },
     "execution_count": 9,
     "metadata": {},
     "output_type": "execute_result"
    }
   ],
   "source": [
    "df.corr"
   ]
  },
  {
   "cell_type": "code",
   "execution_count": 10,
   "id": "3de07078",
   "metadata": {},
   "outputs": [
    {
     "data": {
      "text/html": [
       "<div>\n",
       "<style scoped>\n",
       "    .dataframe tbody tr th:only-of-type {\n",
       "        vertical-align: middle;\n",
       "    }\n",
       "\n",
       "    .dataframe tbody tr th {\n",
       "        vertical-align: top;\n",
       "    }\n",
       "\n",
       "    .dataframe thead th {\n",
       "        text-align: right;\n",
       "    }\n",
       "</style>\n",
       "<table border=\"1\" class=\"dataframe\">\n",
       "  <thead>\n",
       "    <tr style=\"text-align: right;\">\n",
       "      <th></th>\n",
       "      <th>Date</th>\n",
       "      <th>CarCount</th>\n",
       "      <th>BikeCount</th>\n",
       "      <th>BusCount</th>\n",
       "      <th>TruckCount</th>\n",
       "      <th>Total</th>\n",
       "    </tr>\n",
       "  </thead>\n",
       "  <tbody>\n",
       "    <tr>\n",
       "      <th>Date</th>\n",
       "      <td>1.000000</td>\n",
       "      <td>-0.010507</td>\n",
       "      <td>-0.001985</td>\n",
       "      <td>-0.006166</td>\n",
       "      <td>0.021137</td>\n",
       "      <td>-0.006041</td>\n",
       "    </tr>\n",
       "    <tr>\n",
       "      <th>CarCount</th>\n",
       "      <td>-0.010507</td>\n",
       "      <td>1.000000</td>\n",
       "      <td>0.705941</td>\n",
       "      <td>0.664491</td>\n",
       "      <td>-0.583984</td>\n",
       "      <td>0.971386</td>\n",
       "    </tr>\n",
       "    <tr>\n",
       "      <th>BikeCount</th>\n",
       "      <td>-0.001985</td>\n",
       "      <td>0.705941</td>\n",
       "      <td>1.000000</td>\n",
       "      <td>0.581289</td>\n",
       "      <td>-0.585670</td>\n",
       "      <td>0.779261</td>\n",
       "    </tr>\n",
       "    <tr>\n",
       "      <th>BusCount</th>\n",
       "      <td>-0.006166</td>\n",
       "      <td>0.664491</td>\n",
       "      <td>0.581289</td>\n",
       "      <td>1.000000</td>\n",
       "      <td>-0.533847</td>\n",
       "      <td>0.763496</td>\n",
       "    </tr>\n",
       "    <tr>\n",
       "      <th>TruckCount</th>\n",
       "      <td>0.021137</td>\n",
       "      <td>-0.583984</td>\n",
       "      <td>-0.585670</td>\n",
       "      <td>-0.533847</td>\n",
       "      <td>1.000000</td>\n",
       "      <td>-0.508179</td>\n",
       "    </tr>\n",
       "    <tr>\n",
       "      <th>Total</th>\n",
       "      <td>-0.006041</td>\n",
       "      <td>0.971386</td>\n",
       "      <td>0.779261</td>\n",
       "      <td>0.763496</td>\n",
       "      <td>-0.508179</td>\n",
       "      <td>1.000000</td>\n",
       "    </tr>\n",
       "  </tbody>\n",
       "</table>\n",
       "</div>"
      ],
      "text/plain": [
       "                Date  CarCount  BikeCount  BusCount  TruckCount     Total\n",
       "Date        1.000000 -0.010507  -0.001985 -0.006166    0.021137 -0.006041\n",
       "CarCount   -0.010507  1.000000   0.705941  0.664491   -0.583984  0.971386\n",
       "BikeCount  -0.001985  0.705941   1.000000  0.581289   -0.585670  0.779261\n",
       "BusCount   -0.006166  0.664491   0.581289  1.000000   -0.533847  0.763496\n",
       "TruckCount  0.021137 -0.583984  -0.585670 -0.533847    1.000000 -0.508179\n",
       "Total      -0.006041  0.971386   0.779261  0.763496   -0.508179  1.000000"
      ]
     },
     "execution_count": 10,
     "metadata": {},
     "output_type": "execute_result"
    }
   ],
   "source": [
    "df.corr(numeric_only=True)"
   ]
  },
  {
   "cell_type": "code",
   "execution_count": 11,
   "id": "980c6b0f",
   "metadata": {},
   "outputs": [
    {
     "data": {
      "image/png": "[encoded data removed]",
      "text/plain": [
       "<Figure size 1000x600 with 2 Axes>"
      ]
     },
     "metadata": {},
     "output_type": "display_data"
    }
   ],
   "source": [
    "plt.figure(figsize=(10, 6))\n",
    "sns.heatmap(df.corr(numeric_only=True), annot=True, cmap='coolwarm')\n",
    "plt.title('Correlation Heatmap')\n",
    "plt.show()"
   ]
  },
  {
   "cell_type": "markdown",
   "id": "c0e69164",
   "metadata": {
    "id": "c0e69164"
   },
   "source": [
    "# Preprocess the data (if necessary)\n",
    "\n",
    "Before building models, it's crucial to preprocess the data to ensure it's clean and suitable for training. Follow these steps to prepare the dataset:\n",
    "\n",
    "1. **Check for Missing Values**: Determine if there are any missing values in the dataset and handle them appropriately. You can choose to fill them with a mean, median, or mode value, or drop rows with missing values if necessary.\n",
    "\n",
    "2. **Encode Categorical Variables**: Convert categorical variables into numerical representations. This can be done using techniques such as one-hot encoding and lable-encoder.\n",
    "\n",
    "3. **Feature Scaling**: Standardize or Normalize numerical features if needed to have a consistent scale.\n",
    "\n",
    "4. **Remove Unnecessary Columns**: Drop any columns that are not relevant for modeling."
   ]
  },
  {
   "cell_type": "code",
   "execution_count": 12,
   "id": "2ec93111",
   "metadata": {},
   "outputs": [
    {
     "data": {
      "text/plain": [
       "0"
      ]
     },
     "execution_count": 12,
     "metadata": {},
     "output_type": "execute_result"
    }
   ],
   "source": [
    "df.duplicated().sum()"
   ]
  },
  {
   "cell_type": "code",
   "execution_count": 13,
   "id": "1c56d9ea",
   "metadata": {
    "id": "1c56d9ea"
   },
   "outputs": [
    {
     "data": {
      "text/plain": [
       "Time                 0\n",
       "Date                 0\n",
       "Day of the week      0\n",
       "CarCount             0\n",
       "BikeCount            0\n",
       "BusCount             0\n",
       "TruckCount           0\n",
       "Total                0\n",
       "Traffic Situation    0\n",
       "dtype: int64"
      ]
     },
     "execution_count": 13,
     "metadata": {},
     "output_type": "execute_result"
    }
   ],
   "source": [
    "df.isnull().sum() "
   ]
  },
  {
   "cell_type": "code",
   "execution_count": 14,
   "id": "0034d3df",
   "metadata": {},
   "outputs": [
    {
     "data": {
      "text/plain": [
       "array(['Tuesday', 'Wednesday', 'Thursday', 'Friday', 'Saturday', 'Sunday',\n",
       "       'Monday'], dtype=object)"
      ]
     },
     "execution_count": 14,
     "metadata": {},
     "output_type": "execute_result"
    }
   ],
   "source": [
    "df['Day of the week'].unique()"
   ]
  },
  {
   "cell_type": "code",
   "execution_count": 24,
   "id": "1861df85",
   "metadata": {},
   "outputs": [],
   "source": [
    "df.drop(['Date'],axis = 1 ,inplace = True)"
   ]
  },
  {
   "cell_type": "code",
   "execution_count": 25,
   "id": "b7d234d9",
   "metadata": {},
   "outputs": [
    {
     "data": {
      "text/html": [
       "<div>\n",
       "<style scoped>\n",
       "    .dataframe tbody tr th:only-of-type {\n",
       "        vertical-align: middle;\n",
       "    }\n",
       "\n",
       "    .dataframe tbody tr th {\n",
       "        vertical-align: top;\n",
       "    }\n",
       "\n",
       "    .dataframe thead th {\n",
       "        text-align: right;\n",
       "    }\n",
       "</style>\n",
       "<table border=\"1\" class=\"dataframe\">\n",
       "  <thead>\n",
       "    <tr style=\"text-align: right;\">\n",
       "      <th></th>\n",
       "      <th>Day of the week</th>\n",
       "      <th>CarCount</th>\n",
       "      <th>BikeCount</th>\n",
       "      <th>BusCount</th>\n",
       "      <th>TruckCount</th>\n",
       "      <th>Total</th>\n",
       "      <th>Traffic Situation</th>\n",
       "    </tr>\n",
       "  </thead>\n",
       "  <tbody>\n",
       "    <tr>\n",
       "      <th>0</th>\n",
       "      <td>Tuesday</td>\n",
       "      <td>13</td>\n",
       "      <td>2</td>\n",
       "      <td>2</td>\n",
       "      <td>24</td>\n",
       "      <td>41</td>\n",
       "      <td>normal</td>\n",
       "    </tr>\n",
       "    <tr>\n",
       "      <th>1</th>\n",
       "      <td>Tuesday</td>\n",
       "      <td>14</td>\n",
       "      <td>1</td>\n",
       "      <td>1</td>\n",
       "      <td>36</td>\n",
       "      <td>52</td>\n",
       "      <td>normal</td>\n",
       "    </tr>\n",
       "    <tr>\n",
       "      <th>2</th>\n",
       "      <td>Tuesday</td>\n",
       "      <td>10</td>\n",
       "      <td>2</td>\n",
       "      <td>2</td>\n",
       "      <td>32</td>\n",
       "      <td>46</td>\n",
       "      <td>normal</td>\n",
       "    </tr>\n",
       "    <tr>\n",
       "      <th>3</th>\n",
       "      <td>Tuesday</td>\n",
       "      <td>10</td>\n",
       "      <td>2</td>\n",
       "      <td>2</td>\n",
       "      <td>36</td>\n",
       "      <td>50</td>\n",
       "      <td>normal</td>\n",
       "    </tr>\n",
       "    <tr>\n",
       "      <th>4</th>\n",
       "      <td>Tuesday</td>\n",
       "      <td>11</td>\n",
       "      <td>2</td>\n",
       "      <td>1</td>\n",
       "      <td>34</td>\n",
       "      <td>48</td>\n",
       "      <td>normal</td>\n",
       "    </tr>\n",
       "  </tbody>\n",
       "</table>\n",
       "</div>"
      ],
      "text/plain": [
       "  Day of the week  CarCount  BikeCount  BusCount  TruckCount  Total  \\\n",
       "0         Tuesday        13          2         2          24     41   \n",
       "1         Tuesday        14          1         1          36     52   \n",
       "2         Tuesday        10          2         2          32     46   \n",
       "3         Tuesday        10          2         2          36     50   \n",
       "4         Tuesday        11          2         1          34     48   \n",
       "\n",
       "  Traffic Situation  \n",
       "0            normal  \n",
       "1            normal  \n",
       "2            normal  \n",
       "3            normal  \n",
       "4            normal  "
      ]
     },
     "execution_count": 25,
     "metadata": {},
     "output_type": "execute_result"
    }
   ],
   "source": [
    "df.head()"
   ]
  },
  {
   "cell_type": "code",
   "execution_count": 47,
   "id": "b1c263e8",
   "metadata": {},
   "outputs": [],
   "source": [
    "df.drop(['Day of the week'],axis = 1 ,inplace = True)"
   ]
  },
  {
   "cell_type": "code",
   "execution_count": 48,
   "id": "49ab9649",
   "metadata": {},
   "outputs": [
    {
     "data": {
      "text/html": [
       "<div>\n",
       "<style scoped>\n",
       "    .dataframe tbody tr th:only-of-type {\n",
       "        vertical-align: middle;\n",
       "    }\n",
       "\n",
       "    .dataframe tbody tr th {\n",
       "        vertical-align: top;\n",
       "    }\n",
       "\n",
       "    .dataframe thead th {\n",
       "        text-align: right;\n",
       "    }\n",
       "</style>\n",
       "<table border=\"1\" class=\"dataframe\">\n",
       "  <thead>\n",
       "    <tr style=\"text-align: right;\">\n",
       "      <th></th>\n",
       "      <th>CarCount</th>\n",
       "      <th>BikeCount</th>\n",
       "      <th>BusCount</th>\n",
       "      <th>TruckCount</th>\n",
       "      <th>Total</th>\n",
       "      <th>Traffic Situation</th>\n",
       "    </tr>\n",
       "  </thead>\n",
       "  <tbody>\n",
       "    <tr>\n",
       "      <th>0</th>\n",
       "      <td>-1.159175</td>\n",
       "      <td>-0.881214</td>\n",
       "      <td>-0.857050</td>\n",
       "      <td>0.498124</td>\n",
       "      <td>-1.192287</td>\n",
       "      <td>3</td>\n",
       "    </tr>\n",
       "    <tr>\n",
       "      <th>1</th>\n",
       "      <td>-1.136604</td>\n",
       "      <td>-0.969218</td>\n",
       "      <td>-0.938226</td>\n",
       "      <td>1.617112</td>\n",
       "      <td>-0.995318</td>\n",
       "      <td>3</td>\n",
       "    </tr>\n",
       "    <tr>\n",
       "      <th>2</th>\n",
       "      <td>-1.226890</td>\n",
       "      <td>-0.881214</td>\n",
       "      <td>-0.857050</td>\n",
       "      <td>1.244116</td>\n",
       "      <td>-1.102756</td>\n",
       "      <td>3</td>\n",
       "    </tr>\n",
       "    <tr>\n",
       "      <th>3</th>\n",
       "      <td>-1.226890</td>\n",
       "      <td>-0.881214</td>\n",
       "      <td>-0.857050</td>\n",
       "      <td>1.617112</td>\n",
       "      <td>-1.031131</td>\n",
       "      <td>3</td>\n",
       "    </tr>\n",
       "    <tr>\n",
       "      <th>4</th>\n",
       "      <td>-1.204319</td>\n",
       "      <td>-0.881214</td>\n",
       "      <td>-0.938226</td>\n",
       "      <td>1.430614</td>\n",
       "      <td>-1.066943</td>\n",
       "      <td>3</td>\n",
       "    </tr>\n",
       "    <tr>\n",
       "      <th>...</th>\n",
       "      <td>...</td>\n",
       "      <td>...</td>\n",
       "      <td>...</td>\n",
       "      <td>...</td>\n",
       "      <td>...</td>\n",
       "      <td>...</td>\n",
       "    </tr>\n",
       "    <tr>\n",
       "      <th>6319</th>\n",
       "      <td>-0.865746</td>\n",
       "      <td>0.350849</td>\n",
       "      <td>0.035890</td>\n",
       "      <td>-0.247868</td>\n",
       "      <td>-0.655099</td>\n",
       "      <td>3</td>\n",
       "    </tr>\n",
       "    <tr>\n",
       "      <th>6320</th>\n",
       "      <td>0.172545</td>\n",
       "      <td>1.142889</td>\n",
       "      <td>-0.207639</td>\n",
       "      <td>0.777871</td>\n",
       "      <td>0.472996</td>\n",
       "      <td>1</td>\n",
       "    </tr>\n",
       "    <tr>\n",
       "      <th>6321</th>\n",
       "      <td>0.962549</td>\n",
       "      <td>0.086836</td>\n",
       "      <td>0.117066</td>\n",
       "      <td>0.871120</td>\n",
       "      <td>0.974371</td>\n",
       "      <td>1</td>\n",
       "    </tr>\n",
       "    <tr>\n",
       "      <th>6322</th>\n",
       "      <td>0.939977</td>\n",
       "      <td>0.526858</td>\n",
       "      <td>0.035890</td>\n",
       "      <td>0.777871</td>\n",
       "      <td>1.010184</td>\n",
       "      <td>1</td>\n",
       "    </tr>\n",
       "    <tr>\n",
       "      <th>6323</th>\n",
       "      <td>-1.136604</td>\n",
       "      <td>-0.793209</td>\n",
       "      <td>-0.938226</td>\n",
       "      <td>-0.341117</td>\n",
       "      <td>-1.335537</td>\n",
       "      <td>3</td>\n",
       "    </tr>\n",
       "  </tbody>\n",
       "</table>\n",
       "<p>6324 rows × 6 columns</p>\n",
       "</div>"
      ],
      "text/plain": [
       "      CarCount  BikeCount  BusCount  TruckCount     Total  Traffic Situation\n",
       "0    -1.159175  -0.881214 -0.857050    0.498124 -1.192287                  3\n",
       "1    -1.136604  -0.969218 -0.938226    1.617112 -0.995318                  3\n",
       "2    -1.226890  -0.881214 -0.857050    1.244116 -1.102756                  3\n",
       "3    -1.226890  -0.881214 -0.857050    1.617112 -1.031131                  3\n",
       "4    -1.204319  -0.881214 -0.938226    1.430614 -1.066943                  3\n",
       "...        ...        ...       ...         ...       ...                ...\n",
       "6319 -0.865746   0.350849  0.035890   -0.247868 -0.655099                  3\n",
       "6320  0.172545   1.142889 -0.207639    0.777871  0.472996                  1\n",
       "6321  0.962549   0.086836  0.117066    0.871120  0.974371                  1\n",
       "6322  0.939977   0.526858  0.035890    0.777871  1.010184                  1\n",
       "6323 -1.136604  -0.793209 -0.938226   -0.341117 -1.335537                  3\n",
       "\n",
       "[6324 rows x 6 columns]"
      ]
     },
     "execution_count": 48,
     "metadata": {},
     "output_type": "execute_result"
    }
   ],
   "source": [
    "df"
   ]
  },
  {
   "cell_type": "code",
   "execution_count": 27,
   "id": "1a94a3a3",
   "metadata": {},
   "outputs": [],
   "source": [
    "lm = LabelEncoder()"
   ]
  },
  {
   "cell_type": "code",
   "execution_count": 28,
   "id": "1614feba",
   "metadata": {},
   "outputs": [],
   "source": [
    "df['Traffic Situation'] = lm.fit_transform(df['Traffic Situation'])"
   ]
  },
  {
   "cell_type": "code",
   "execution_count": 30,
   "id": "58766d41",
   "metadata": {},
   "outputs": [
    {
     "data": {
      "text/plain": [
       "array([3, 2, 0, 1])"
      ]
     },
     "execution_count": 30,
     "metadata": {},
     "output_type": "execute_result"
    }
   ],
   "source": [
    "df['Traffic Situation'].unique()"
   ]
  },
  {
   "cell_type": "code",
   "execution_count": 32,
   "id": "ffa35d94",
   "metadata": {},
   "outputs": [],
   "source": [
    "SC = StandardScaler()"
   ]
  },
  {
   "cell_type": "code",
   "execution_count": 35,
   "id": "da1193a4",
   "metadata": {},
   "outputs": [],
   "source": [
    "df[['CarCount', 'BikeCount', 'BusCount', 'TruckCount', 'Total']] =SC.fit_transform(df[['CarCount', 'BikeCount', 'BusCount', 'TruckCount', 'Total']])"
   ]
  },
  {
   "cell_type": "code",
   "execution_count": 36,
   "id": "1c6f9fc5",
   "metadata": {},
   "outputs": [
    {
     "data": {
      "text/html": [
       "<div>\n",
       "<style scoped>\n",
       "    .dataframe tbody tr th:only-of-type {\n",
       "        vertical-align: middle;\n",
       "    }\n",
       "\n",
       "    .dataframe tbody tr th {\n",
       "        vertical-align: top;\n",
       "    }\n",
       "\n",
       "    .dataframe thead th {\n",
       "        text-align: right;\n",
       "    }\n",
       "</style>\n",
       "<table border=\"1\" class=\"dataframe\">\n",
       "  <thead>\n",
       "    <tr style=\"text-align: right;\">\n",
       "      <th></th>\n",
       "      <th>Day of the week</th>\n",
       "      <th>CarCount</th>\n",
       "      <th>BikeCount</th>\n",
       "      <th>BusCount</th>\n",
       "      <th>TruckCount</th>\n",
       "      <th>Total</th>\n",
       "      <th>Traffic Situation</th>\n",
       "    </tr>\n",
       "  </thead>\n",
       "  <tbody>\n",
       "    <tr>\n",
       "      <th>0</th>\n",
       "      <td>Tuesday</td>\n",
       "      <td>-1.159175</td>\n",
       "      <td>-0.881214</td>\n",
       "      <td>-0.857050</td>\n",
       "      <td>0.498124</td>\n",
       "      <td>-1.192287</td>\n",
       "      <td>3</td>\n",
       "    </tr>\n",
       "    <tr>\n",
       "      <th>1</th>\n",
       "      <td>Tuesday</td>\n",
       "      <td>-1.136604</td>\n",
       "      <td>-0.969218</td>\n",
       "      <td>-0.938226</td>\n",
       "      <td>1.617112</td>\n",
       "      <td>-0.995318</td>\n",
       "      <td>3</td>\n",
       "    </tr>\n",
       "    <tr>\n",
       "      <th>2</th>\n",
       "      <td>Tuesday</td>\n",
       "      <td>-1.226890</td>\n",
       "      <td>-0.881214</td>\n",
       "      <td>-0.857050</td>\n",
       "      <td>1.244116</td>\n",
       "      <td>-1.102756</td>\n",
       "      <td>3</td>\n",
       "    </tr>\n",
       "    <tr>\n",
       "      <th>3</th>\n",
       "      <td>Tuesday</td>\n",
       "      <td>-1.226890</td>\n",
       "      <td>-0.881214</td>\n",
       "      <td>-0.857050</td>\n",
       "      <td>1.617112</td>\n",
       "      <td>-1.031131</td>\n",
       "      <td>3</td>\n",
       "    </tr>\n",
       "    <tr>\n",
       "      <th>4</th>\n",
       "      <td>Tuesday</td>\n",
       "      <td>-1.204319</td>\n",
       "      <td>-0.881214</td>\n",
       "      <td>-0.938226</td>\n",
       "      <td>1.430614</td>\n",
       "      <td>-1.066943</td>\n",
       "      <td>3</td>\n",
       "    </tr>\n",
       "  </tbody>\n",
       "</table>\n",
       "</div>"
      ],
      "text/plain": [
       "  Day of the week  CarCount  BikeCount  BusCount  TruckCount     Total  \\\n",
       "0         Tuesday -1.159175  -0.881214 -0.857050    0.498124 -1.192287   \n",
       "1         Tuesday -1.136604  -0.969218 -0.938226    1.617112 -0.995318   \n",
       "2         Tuesday -1.226890  -0.881214 -0.857050    1.244116 -1.102756   \n",
       "3         Tuesday -1.226890  -0.881214 -0.857050    1.617112 -1.031131   \n",
       "4         Tuesday -1.204319  -0.881214 -0.938226    1.430614 -1.066943   \n",
       "\n",
       "   Traffic Situation  \n",
       "0                  3  \n",
       "1                  3  \n",
       "2                  3  \n",
       "3                  3  \n",
       "4                  3  "
      ]
     },
     "execution_count": 36,
     "metadata": {},
     "output_type": "execute_result"
    }
   ],
   "source": [
    "df.head()"
   ]
  },
  {
   "cell_type": "markdown",
   "id": "15d85221",
   "metadata": {
    "id": "15d85221"
   },
   "source": [
    "# Visualize the Data\n",
    "\n",
    "Visualizing the data helps in understanding the relationships between features and the target variable. Below are some common visualizations that can be used to gain insights into the dataset:\n",
    "\n",
    "1. **Count Plots for Categorical Features**: Use count plots to visualize the frequency of categorical features such as the `Traffic Situation`.\n",
    "\n",
    "2. **Correlation Heatmap**: Create a heatmap to visualize the correlation between numerical features and identify any strong relationships."
   ]
  },
  {
   "cell_type": "code",
   "execution_count": 37,
   "id": "50280eae",
   "metadata": {},
   "outputs": [
    {
     "data": {
      "image/png": "[encoded data removed]",
      "text/plain": [
       "<Figure size 800x600 with 1 Axes>"
      ]
     },
     "metadata": {},
     "output_type": "display_data"
    }
   ],
   "source": [
    "plt.figure(figsize=(8, 6))\n",
    "df['Traffic Situation'].value_counts().plot(kind='bar')\n",
    "plt.title('Distribution of Traffic Situation')\n",
    "plt.xlabel('Traffic Situation')\n",
    "plt.ylabel('Count')\n",
    "plt.show()"
   ]
  },
  {
   "cell_type": "code",
   "execution_count": 38,
   "id": "a9fb5ec0",
   "metadata": {},
   "outputs": [
    {
     "data": {
      "image/png": "[encoded data removed]",
      "text/plain": [
       "<Figure size 1000x600 with 2 Axes>"
      ]
     },
     "metadata": {},
     "output_type": "display_data"
    }
   ],
   "source": [
    "plt.figure(figsize=(10, 6))\n",
    "sns.heatmap(df.corr(numeric_only=True), annot=True, cmap='coolwarm')\n",
    "plt.title('Correlation Heatmap')\n",
    "plt.show()"
   ]
  },
  {
   "cell_type": "markdown",
   "id": "2104eb8e",
   "metadata": {
    "id": "2104eb8e"
   },
   "source": [
    "# Split the Dataset\n",
    "\n",
    "1. **Define Features and Target**: Separate the dataset into features (`X`) and the target variable (`y`).\n",
    "\n",
    "2. **Train-Test Split**: Use the `train_test_split` function from `sklearn.model_selection` to split the data."
   ]
  },
  {
   "cell_type": "code",
   "execution_count": 40,
   "id": "f3a3d4e9",
   "metadata": {
    "id": "f3a3d4e9"
   },
   "outputs": [],
   "source": [
    "X = df.drop('Traffic Situation', axis=1)\n",
    "y = df['Traffic Situation']"
   ]
  },
  {
   "cell_type": "code",
   "execution_count": 41,
   "id": "24bd706b",
   "metadata": {},
   "outputs": [],
   "source": [
    "X_train, X_test, y_train, y_test = train_test_split(X, y, test_size=0.2, random_state=42)"
   ]
  },
  {
   "cell_type": "markdown",
   "id": "bdcb9a0a",
   "metadata": {
    "id": "bdcb9a0a"
   },
   "source": [
    "# Initialize and Train the Classifiers"
   ]
  },
  {
   "cell_type": "markdown",
   "id": "ea773220",
   "metadata": {
    "id": "ea773220"
   },
   "source": [
    "## Bagging\n",
    "Chose the bagging model to go with and initialize and train a the model."
   ]
  },
  {
   "cell_type": "code",
   "execution_count": 44,
   "id": "3e29fd42",
   "metadata": {
    "id": "3e29fd42"
   },
   "outputs": [],
   "source": [
    "rf_clf = RandomForestClassifier(n_estimators=100, random_state=42)"
   ]
  },
  {
   "cell_type": "code",
   "execution_count": 54,
   "id": "a09633fe",
   "metadata": {},
   "outputs": [
    {
     "data": {
      "text/html": [
       "<div>\n",
       "<style scoped>\n",
       "    .dataframe tbody tr th:only-of-type {\n",
       "        vertical-align: middle;\n",
       "    }\n",
       "\n",
       "    .dataframe tbody tr th {\n",
       "        vertical-align: top;\n",
       "    }\n",
       "\n",
       "    .dataframe thead th {\n",
       "        text-align: right;\n",
       "    }\n",
       "</style>\n",
       "<table border=\"1\" class=\"dataframe\">\n",
       "  <thead>\n",
       "    <tr style=\"text-align: right;\">\n",
       "      <th></th>\n",
       "      <th>CarCount</th>\n",
       "      <th>BikeCount</th>\n",
       "      <th>BusCount</th>\n",
       "      <th>TruckCount</th>\n",
       "      <th>Total</th>\n",
       "    </tr>\n",
       "  </thead>\n",
       "  <tbody>\n",
       "    <tr>\n",
       "      <th>0</th>\n",
       "      <td>-1.159175</td>\n",
       "      <td>-0.881214</td>\n",
       "      <td>-0.857050</td>\n",
       "      <td>0.498124</td>\n",
       "      <td>-1.192287</td>\n",
       "    </tr>\n",
       "    <tr>\n",
       "      <th>1</th>\n",
       "      <td>-1.136604</td>\n",
       "      <td>-0.969218</td>\n",
       "      <td>-0.938226</td>\n",
       "      <td>1.617112</td>\n",
       "      <td>-0.995318</td>\n",
       "    </tr>\n",
       "    <tr>\n",
       "      <th>2</th>\n",
       "      <td>-1.226890</td>\n",
       "      <td>-0.881214</td>\n",
       "      <td>-0.857050</td>\n",
       "      <td>1.244116</td>\n",
       "      <td>-1.102756</td>\n",
       "    </tr>\n",
       "    <tr>\n",
       "      <th>3</th>\n",
       "      <td>-1.226890</td>\n",
       "      <td>-0.881214</td>\n",
       "      <td>-0.857050</td>\n",
       "      <td>1.617112</td>\n",
       "      <td>-1.031131</td>\n",
       "    </tr>\n",
       "    <tr>\n",
       "      <th>4</th>\n",
       "      <td>-1.204319</td>\n",
       "      <td>-0.881214</td>\n",
       "      <td>-0.938226</td>\n",
       "      <td>1.430614</td>\n",
       "      <td>-1.066943</td>\n",
       "    </tr>\n",
       "    <tr>\n",
       "      <th>...</th>\n",
       "      <td>...</td>\n",
       "      <td>...</td>\n",
       "      <td>...</td>\n",
       "      <td>...</td>\n",
       "      <td>...</td>\n",
       "    </tr>\n",
       "    <tr>\n",
       "      <th>6319</th>\n",
       "      <td>-0.865746</td>\n",
       "      <td>0.350849</td>\n",
       "      <td>0.035890</td>\n",
       "      <td>-0.247868</td>\n",
       "      <td>-0.655099</td>\n",
       "    </tr>\n",
       "    <tr>\n",
       "      <th>6320</th>\n",
       "      <td>0.172545</td>\n",
       "      <td>1.142889</td>\n",
       "      <td>-0.207639</td>\n",
       "      <td>0.777871</td>\n",
       "      <td>0.472996</td>\n",
       "    </tr>\n",
       "    <tr>\n",
       "      <th>6321</th>\n",
       "      <td>0.962549</td>\n",
       "      <td>0.086836</td>\n",
       "      <td>0.117066</td>\n",
       "      <td>0.871120</td>\n",
       "      <td>0.974371</td>\n",
       "    </tr>\n",
       "    <tr>\n",
       "      <th>6322</th>\n",
       "      <td>0.939977</td>\n",
       "      <td>0.526858</td>\n",
       "      <td>0.035890</td>\n",
       "      <td>0.777871</td>\n",
       "      <td>1.010184</td>\n",
       "    </tr>\n",
       "    <tr>\n",
       "      <th>6323</th>\n",
       "      <td>-1.136604</td>\n",
       "      <td>-0.793209</td>\n",
       "      <td>-0.938226</td>\n",
       "      <td>-0.341117</td>\n",
       "      <td>-1.335537</td>\n",
       "    </tr>\n",
       "  </tbody>\n",
       "</table>\n",
       "<p>6324 rows × 5 columns</p>\n",
       "</div>"
      ],
      "text/plain": [
       "      CarCount  BikeCount  BusCount  TruckCount     Total\n",
       "0    -1.159175  -0.881214 -0.857050    0.498124 -1.192287\n",
       "1    -1.136604  -0.969218 -0.938226    1.617112 -0.995318\n",
       "2    -1.226890  -0.881214 -0.857050    1.244116 -1.102756\n",
       "3    -1.226890  -0.881214 -0.857050    1.617112 -1.031131\n",
       "4    -1.204319  -0.881214 -0.938226    1.430614 -1.066943\n",
       "...        ...        ...       ...         ...       ...\n",
       "6319 -0.865746   0.350849  0.035890   -0.247868 -0.655099\n",
       "6320  0.172545   1.142889 -0.207639    0.777871  0.472996\n",
       "6321  0.962549   0.086836  0.117066    0.871120  0.974371\n",
       "6322  0.939977   0.526858  0.035890    0.777871  1.010184\n",
       "6323 -1.136604  -0.793209 -0.938226   -0.341117 -1.335537\n",
       "\n",
       "[6324 rows x 5 columns]"
      ]
     },
     "execution_count": 54,
     "metadata": {},
     "output_type": "execute_result"
    }
   ],
   "source": [
    "X"
   ]
  },
  {
   "cell_type": "code",
   "execution_count": 52,
   "id": "4d449a11",
   "metadata": {},
   "outputs": [],
   "source": [
    "X.drop(['Day of the week'],axis = 1 ,inplace = True)"
   ]
  },
  {
   "cell_type": "code",
   "execution_count": 55,
   "id": "d9fc2118",
   "metadata": {},
   "outputs": [
    {
     "data": {
      "text/plain": [
       "0       3\n",
       "1       3\n",
       "2       3\n",
       "3       3\n",
       "4       3\n",
       "       ..\n",
       "6319    3\n",
       "6320    1\n",
       "6321    1\n",
       "6322    1\n",
       "6323    3\n",
       "Name: Traffic Situation, Length: 6324, dtype: int32"
      ]
     },
     "execution_count": 55,
     "metadata": {},
     "output_type": "execute_result"
    }
   ],
   "source": [
    "y"
   ]
  },
  {
   "cell_type": "code",
   "execution_count": 56,
   "id": "e3df78c0",
   "metadata": {},
   "outputs": [
    {
     "data": {
      "text/html": [
       "<div>\n",
       "<style scoped>\n",
       "    .dataframe tbody tr th:only-of-type {\n",
       "        vertical-align: middle;\n",
       "    }\n",
       "\n",
       "    .dataframe tbody tr th {\n",
       "        vertical-align: top;\n",
       "    }\n",
       "\n",
       "    .dataframe thead th {\n",
       "        text-align: right;\n",
       "    }\n",
       "</style>\n",
       "<table border=\"1\" class=\"dataframe\">\n",
       "  <thead>\n",
       "    <tr style=\"text-align: right;\">\n",
       "      <th></th>\n",
       "      <th>Day of the week</th>\n",
       "      <th>CarCount</th>\n",
       "      <th>BikeCount</th>\n",
       "      <th>BusCount</th>\n",
       "      <th>TruckCount</th>\n",
       "      <th>Total</th>\n",
       "    </tr>\n",
       "  </thead>\n",
       "  <tbody>\n",
       "    <tr>\n",
       "      <th>1170</th>\n",
       "      <td>Sunday</td>\n",
       "      <td>0.172545</td>\n",
       "      <td>-0.353187</td>\n",
       "      <td>-0.694697</td>\n",
       "      <td>-0.061370</td>\n",
       "      <td>-0.100005</td>\n",
       "    </tr>\n",
       "    <tr>\n",
       "      <th>5437</th>\n",
       "      <td>Saturday</td>\n",
       "      <td>1.255979</td>\n",
       "      <td>1.582912</td>\n",
       "      <td>1.253536</td>\n",
       "      <td>-0.341117</td>\n",
       "      <td>1.529465</td>\n",
       "    </tr>\n",
       "    <tr>\n",
       "      <th>5458</th>\n",
       "      <td>Saturday</td>\n",
       "      <td>0.939977</td>\n",
       "      <td>-0.001169</td>\n",
       "      <td>0.279419</td>\n",
       "      <td>-0.900611</td>\n",
       "      <td>0.634152</td>\n",
       "    </tr>\n",
       "    <tr>\n",
       "      <th>2948</th>\n",
       "      <td>Thursday</td>\n",
       "      <td>1.526837</td>\n",
       "      <td>0.350849</td>\n",
       "      <td>0.035890</td>\n",
       "      <td>-0.714113</td>\n",
       "      <td>1.153434</td>\n",
       "    </tr>\n",
       "    <tr>\n",
       "      <th>1835</th>\n",
       "      <td>Sunday</td>\n",
       "      <td>-1.114032</td>\n",
       "      <td>-0.881214</td>\n",
       "      <td>-0.938226</td>\n",
       "      <td>1.710362</td>\n",
       "      <td>-0.941600</td>\n",
       "    </tr>\n",
       "    <tr>\n",
       "      <th>...</th>\n",
       "      <td>...</td>\n",
       "      <td>...</td>\n",
       "      <td>...</td>\n",
       "      <td>...</td>\n",
       "      <td>...</td>\n",
       "      <td>...</td>\n",
       "    </tr>\n",
       "    <tr>\n",
       "      <th>3772</th>\n",
       "      <td>Wednesday</td>\n",
       "      <td>1.729981</td>\n",
       "      <td>0.262845</td>\n",
       "      <td>0.685301</td>\n",
       "      <td>-1.273607</td>\n",
       "      <td>1.332496</td>\n",
       "    </tr>\n",
       "    <tr>\n",
       "      <th>5191</th>\n",
       "      <td>Thursday</td>\n",
       "      <td>-1.204319</td>\n",
       "      <td>-1.057223</td>\n",
       "      <td>-1.019403</td>\n",
       "      <td>-0.247868</td>\n",
       "      <td>-1.442975</td>\n",
       "    </tr>\n",
       "    <tr>\n",
       "      <th>5226</th>\n",
       "      <td>Thursday</td>\n",
       "      <td>0.285403</td>\n",
       "      <td>0.966880</td>\n",
       "      <td>0.117066</td>\n",
       "      <td>0.125128</td>\n",
       "      <td>0.472996</td>\n",
       "    </tr>\n",
       "    <tr>\n",
       "      <th>5390</th>\n",
       "      <td>Saturday</td>\n",
       "      <td>-1.023746</td>\n",
       "      <td>-0.617200</td>\n",
       "      <td>-0.938226</td>\n",
       "      <td>1.803611</td>\n",
       "      <td>-0.798349</td>\n",
       "    </tr>\n",
       "    <tr>\n",
       "      <th>860</th>\n",
       "      <td>Wednesday</td>\n",
       "      <td>-1.294605</td>\n",
       "      <td>-1.057223</td>\n",
       "      <td>-0.857050</td>\n",
       "      <td>1.523863</td>\n",
       "      <td>-1.138568</td>\n",
       "    </tr>\n",
       "  </tbody>\n",
       "</table>\n",
       "<p>5059 rows × 6 columns</p>\n",
       "</div>"
      ],
      "text/plain": [
       "     Day of the week  CarCount  BikeCount  BusCount  TruckCount     Total\n",
       "1170          Sunday  0.172545  -0.353187 -0.694697   -0.061370 -0.100005\n",
       "5437        Saturday  1.255979   1.582912  1.253536   -0.341117  1.529465\n",
       "5458        Saturday  0.939977  -0.001169  0.279419   -0.900611  0.634152\n",
       "2948        Thursday  1.526837   0.350849  0.035890   -0.714113  1.153434\n",
       "1835          Sunday -1.114032  -0.881214 -0.938226    1.710362 -0.941600\n",
       "...              ...       ...        ...       ...         ...       ...\n",
       "3772       Wednesday  1.729981   0.262845  0.685301   -1.273607  1.332496\n",
       "5191        Thursday -1.204319  -1.057223 -1.019403   -0.247868 -1.442975\n",
       "5226        Thursday  0.285403   0.966880  0.117066    0.125128  0.472996\n",
       "5390        Saturday -1.023746  -0.617200 -0.938226    1.803611 -0.798349\n",
       "860        Wednesday -1.294605  -1.057223 -0.857050    1.523863 -1.138568\n",
       "\n",
       "[5059 rows x 6 columns]"
      ]
     },
     "execution_count": 56,
     "metadata": {},
     "output_type": "execute_result"
    }
   ],
   "source": [
    "X_train"
   ]
  },
  {
   "cell_type": "code",
   "execution_count": 57,
   "id": "11c912d6",
   "metadata": {},
   "outputs": [],
   "source": [
    "X_train.drop(['Day of the week'],axis = 1 ,inplace = True)"
   ]
  },
  {
   "cell_type": "code",
   "execution_count": 61,
   "id": "a0b532f1",
   "metadata": {},
   "outputs": [],
   "source": [
    "X_test.drop(['Day of the week'],axis = 1 ,inplace = True)"
   ]
  },
  {
   "cell_type": "code",
   "execution_count": 62,
   "id": "00604b16",
   "metadata": {},
   "outputs": [
    {
     "data": {
      "text/html": [
       "<div>\n",
       "<style scoped>\n",
       "    .dataframe tbody tr th:only-of-type {\n",
       "        vertical-align: middle;\n",
       "    }\n",
       "\n",
       "    .dataframe tbody tr th {\n",
       "        vertical-align: top;\n",
       "    }\n",
       "\n",
       "    .dataframe thead th {\n",
       "        text-align: right;\n",
       "    }\n",
       "</style>\n",
       "<table border=\"1\" class=\"dataframe\">\n",
       "  <thead>\n",
       "    <tr style=\"text-align: right;\">\n",
       "      <th></th>\n",
       "      <th>CarCount</th>\n",
       "      <th>BikeCount</th>\n",
       "      <th>BusCount</th>\n",
       "      <th>TruckCount</th>\n",
       "      <th>Total</th>\n",
       "    </tr>\n",
       "  </thead>\n",
       "  <tbody>\n",
       "    <tr>\n",
       "      <th>3090</th>\n",
       "      <td>1.007692</td>\n",
       "      <td>1.142889</td>\n",
       "      <td>-0.775873</td>\n",
       "      <td>-0.993860</td>\n",
       "      <td>0.669965</td>\n",
       "    </tr>\n",
       "    <tr>\n",
       "      <th>198</th>\n",
       "      <td>-1.136604</td>\n",
       "      <td>-0.881214</td>\n",
       "      <td>-1.019403</td>\n",
       "      <td>1.523863</td>\n",
       "      <td>-1.013225</td>\n",
       "    </tr>\n",
       "    <tr>\n",
       "      <th>3934</th>\n",
       "      <td>-1.114032</td>\n",
       "      <td>-0.705205</td>\n",
       "      <td>-1.019403</td>\n",
       "      <td>-0.154619</td>\n",
       "      <td>-1.281819</td>\n",
       "    </tr>\n",
       "    <tr>\n",
       "      <th>1611</th>\n",
       "      <td>0.149974</td>\n",
       "      <td>-0.881214</td>\n",
       "      <td>0.360596</td>\n",
       "      <td>-0.807362</td>\n",
       "      <td>-0.135818</td>\n",
       "    </tr>\n",
       "    <tr>\n",
       "      <th>5435</th>\n",
       "      <td>0.082259</td>\n",
       "      <td>1.054885</td>\n",
       "      <td>0.198243</td>\n",
       "      <td>-0.434366</td>\n",
       "      <td>0.240214</td>\n",
       "    </tr>\n",
       "    <tr>\n",
       "      <th>...</th>\n",
       "      <td>...</td>\n",
       "      <td>...</td>\n",
       "      <td>...</td>\n",
       "      <td>...</td>\n",
       "      <td>...</td>\n",
       "    </tr>\n",
       "    <tr>\n",
       "      <th>2944</th>\n",
       "      <td>1.255979</td>\n",
       "      <td>0.438854</td>\n",
       "      <td>1.984123</td>\n",
       "      <td>-0.434366</td>\n",
       "      <td>1.439934</td>\n",
       "    </tr>\n",
       "    <tr>\n",
       "      <th>292</th>\n",
       "      <td>-1.114032</td>\n",
       "      <td>-1.057223</td>\n",
       "      <td>-1.019403</td>\n",
       "      <td>0.311626</td>\n",
       "      <td>-1.263912</td>\n",
       "    </tr>\n",
       "    <tr>\n",
       "      <th>1142</th>\n",
       "      <td>-0.211171</td>\n",
       "      <td>-0.353187</td>\n",
       "      <td>0.441772</td>\n",
       "      <td>0.498124</td>\n",
       "      <td>-0.046286</td>\n",
       "    </tr>\n",
       "    <tr>\n",
       "      <th>2641</th>\n",
       "      <td>-0.843174</td>\n",
       "      <td>-0.441191</td>\n",
       "      <td>-1.019403</td>\n",
       "      <td>1.337365</td>\n",
       "      <td>-0.726724</td>\n",
       "    </tr>\n",
       "    <tr>\n",
       "      <th>1454</th>\n",
       "      <td>-1.114032</td>\n",
       "      <td>-0.969218</td>\n",
       "      <td>-0.938226</td>\n",
       "      <td>1.617112</td>\n",
       "      <td>-0.977412</td>\n",
       "    </tr>\n",
       "  </tbody>\n",
       "</table>\n",
       "<p>1265 rows × 5 columns</p>\n",
       "</div>"
      ],
      "text/plain": [
       "      CarCount  BikeCount  BusCount  TruckCount     Total\n",
       "3090  1.007692   1.142889 -0.775873   -0.993860  0.669965\n",
       "198  -1.136604  -0.881214 -1.019403    1.523863 -1.013225\n",
       "3934 -1.114032  -0.705205 -1.019403   -0.154619 -1.281819\n",
       "1611  0.149974  -0.881214  0.360596   -0.807362 -0.135818\n",
       "5435  0.082259   1.054885  0.198243   -0.434366  0.240214\n",
       "...        ...        ...       ...         ...       ...\n",
       "2944  1.255979   0.438854  1.984123   -0.434366  1.439934\n",
       "292  -1.114032  -1.057223 -1.019403    0.311626 -1.263912\n",
       "1142 -0.211171  -0.353187  0.441772    0.498124 -0.046286\n",
       "2641 -0.843174  -0.441191 -1.019403    1.337365 -0.726724\n",
       "1454 -1.114032  -0.969218 -0.938226    1.617112 -0.977412\n",
       "\n",
       "[1265 rows x 5 columns]"
      ]
     },
     "execution_count": 62,
     "metadata": {},
     "output_type": "execute_result"
    }
   ],
   "source": [
    "X_test"
   ]
  },
  {
   "cell_type": "code",
   "execution_count": 58,
   "id": "d676af6f",
   "metadata": {},
   "outputs": [
    {
     "data": {
      "text/plain": [
       "RandomForestClassifier(random_state=42)"
      ]
     },
     "execution_count": 58,
     "metadata": {},
     "output_type": "execute_result"
    }
   ],
   "source": [
    "rf_clf.fit(X_train, y_train)"
   ]
  },
  {
   "cell_type": "markdown",
   "id": "fb3a2438",
   "metadata": {
    "id": "fb3a2438"
   },
   "source": [
    "### Evaluate the model performance"
   ]
  },
  {
   "cell_type": "code",
   "execution_count": 63,
   "id": "38d965b4",
   "metadata": {
    "id": "38d965b4"
   },
   "outputs": [
    {
     "name": "stdout",
     "output_type": "stream",
     "text": [
      "Random Forest Classifier\n",
      "Accuracy: 0.9003952569169961\n",
      "F1-score: 0.9015115529238795\n",
      "Confusion Matrix:\n",
      " [[220   0   0   0]\n",
      " [  0  81   0  21]\n",
      " [  0   0 115  34]\n",
      " [  0  23  48 723]]\n"
     ]
    }
   ],
   "source": [
    "print(\"Random Forest Classifier\")\n",
    "print(\"Accuracy:\", accuracy_score(y_test, rf_clf.predict(X_test)))\n",
    "print(\"F1-score:\", f1_score(y_test, rf_clf.predict(X_test), average='weighted'))\n",
    "print(\"Confusion Matrix:\\n\", confusion_matrix(y_test, rf_clf.predict(X_test)))"
   ]
  },
  {
   "cell_type": "markdown",
   "id": "1790e79e",
   "metadata": {
    "id": "1790e79e"
   },
   "source": [
    "## Boosting\n",
    "Chose the Boosting model to go with and initialize and train a the model."
   ]
  },
  {
   "cell_type": "code",
   "execution_count": 67,
   "id": "bd8ef061",
   "metadata": {
    "id": "bd8ef061"
   },
   "outputs": [],
   "source": [
    "BO = AdaBoostClassifier(n_estimators=100, random_state=42)"
   ]
  },
  {
   "cell_type": "code",
   "execution_count": 68,
   "id": "a953508e",
   "metadata": {},
   "outputs": [
    {
     "data": {
      "text/plain": [
       "AdaBoostClassifier(n_estimators=100, random_state=42)"
      ]
     },
     "execution_count": 68,
     "metadata": {},
     "output_type": "execute_result"
    }
   ],
   "source": [
    "BO.fit(X_train, y_train)"
   ]
  },
  {
   "cell_type": "markdown",
   "id": "6646ab65",
   "metadata": {
    "id": "6646ab65"
   },
   "source": [
    "### Evaluate the model performance"
   ]
  },
  {
   "cell_type": "code",
   "execution_count": 69,
   "id": "d9915c9c",
   "metadata": {
    "id": "d9915c9c"
   },
   "outputs": [
    {
     "name": "stdout",
     "output_type": "stream",
     "text": [
      "\n",
      "AdaBoost Classifier\n",
      "Accuracy: 0.8023715415019763\n",
      "F1-score: 0.7262793240459482\n",
      "Confusion Matrix:\n",
      " [[220   0   0   0]\n",
      " [  0   8   0  94]\n",
      " [  0   0   0 149]\n",
      " [  1   6   0 787]]\n"
     ]
    }
   ],
   "source": [
    "print(\"\\nAdaBoost Classifier\")\n",
    "print(\"Accuracy:\", accuracy_score(y_test, BO.predict(X_test)))\n",
    "print(\"F1-score:\", f1_score(y_test, BO.predict(X_test), average='weighted'))\n",
    "print(\"Confusion Matrix:\\n\", confusion_matrix(y_test, BO.predict(X_test)))"
   ]
  },
  {
   "cell_type": "code",
   "execution_count": 70,
   "id": "32f1e492",
   "metadata": {},
   "outputs": [
    {
     "data": {
      "text/plain": [
       "GradientBoostingClassifier(random_state=42)"
      ]
     },
     "execution_count": 70,
     "metadata": {},
     "output_type": "execute_result"
    }
   ],
   "source": [
    "gb = GradientBoostingClassifier(n_estimators=100, random_state=42)\n",
    "gb.fit(X_train, y_train)"
   ]
  },
  {
   "cell_type": "code",
   "execution_count": 71,
   "id": "6f0ea213",
   "metadata": {},
   "outputs": [
    {
     "name": "stdout",
     "output_type": "stream",
     "text": [
      "\n",
      "Gradient Boosting Classifier\n",
      "Accuracy: 0.9193675889328063\n",
      "F1-score: 0.9204827169822687\n",
      "Confusion Matrix:\n",
      " [[220   0   0   0]\n",
      " [  0  81   0  21]\n",
      " [  0   0 126  23]\n",
      " [  0  10  48 736]]\n"
     ]
    }
   ],
   "source": [
    "print(\"\\nGradient Boosting Classifier\")\n",
    "print(\"Accuracy:\", accuracy_score(y_test, gb.predict(X_test)))\n",
    "print(\"F1-score:\", f1_score(y_test, gb.predict(X_test), average='weighted'))\n",
    "print(\"Confusion Matrix:\\n\", confusion_matrix(y_test, gb.predict(X_test)))"
   ]
  },
  {
   "cell_type": "markdown",
   "id": "fc2255c5",
   "metadata": {
    "id": "fc2255c5"
   },
   "source": [
    "## Stacking Classifier\n",
    "Combine the previous classifiers as the base models using a Stacking Classifier."
   ]
  },
  {
   "cell_type": "code",
   "execution_count": 72,
   "id": "0cdf7b85",
   "metadata": {},
   "outputs": [],
   "source": [
    "from sklearn.ensemble import StackingClassifier"
   ]
  },
  {
   "cell_type": "markdown",
   "id": "cb295dff",
   "metadata": {
    "id": "cb295dff"
   },
   "source": [
    "### Define meta-learner (LogisticRegression)"
   ]
  },
  {
   "cell_type": "code",
   "execution_count": 73,
   "id": "7b4eb2a7",
   "metadata": {
    "id": "7b4eb2a7"
   },
   "outputs": [],
   "source": [
    "from sklearn.linear_model import LogisticRegression"
   ]
  },
  {
   "cell_type": "code",
   "execution_count": 74,
   "id": "fbce17f1",
   "metadata": {},
   "outputs": [],
   "source": [
    "base_models = [\n",
    "    ('lr', LogisticRegression()),\n",
    "\n",
    "]\n",
    "\n"
   ]
  },
  {
   "cell_type": "markdown",
   "id": "0f74e88d",
   "metadata": {
    "id": "0f74e88d"
   },
   "source": [
    "### Initialize and Train the Stacking Classifier\n",
    "\n",
    "Stacking combines multiple models (base learners) using a meta-learner. The meta-learner is trained on the predictions of the base learners to make the final prediction."
   ]
  },
  {
   "cell_type": "code",
   "execution_count": 75,
   "id": "c53f148a",
   "metadata": {
    "id": "c53f148a"
   },
   "outputs": [
    {
     "data": {
      "text/plain": [
       "StackingClassifier(cv=5, estimators=[('lr', LogisticRegression())],\n",
       "                   final_estimator=LogisticRegression())"
      ]
     },
     "execution_count": 75,
     "metadata": {},
     "output_type": "execute_result"
    }
   ],
   "source": [
    "clf = StackingClassifier(\n",
    "    estimators=base_models,\n",
    "    final_estimator=LogisticRegression(),\n",
    "    cv=5,\n",
    "\n",
    ")\n",
    "clf.fit(X_train, y_train)"
   ]
  },
  {
   "cell_type": "markdown",
   "id": "d24a1137",
   "metadata": {
    "id": "d24a1137"
   },
   "source": [
    "### Evaluate the model performance"
   ]
  },
  {
   "cell_type": "code",
   "execution_count": 86,
   "id": "4cd40cf6",
   "metadata": {
    "id": "4cd40cf6"
   },
   "outputs": [],
   "source": [
    "y_pred = rf_clf.predict(X_test)\n",
    "rf_accuracy = accuracy_score(y_test, y_pred)\n",
    "f1 = f1_score(y_test, y_pred, average='macro')\n",
    "recall = recall_score(y_test, y_pred, average='macro')\n",
    "precision = precision_score(y_test, y_pred, average='macro')"
   ]
  },
  {
   "cell_type": "code",
   "execution_count": 87,
   "id": "2cdda388",
   "metadata": {},
   "outputs": [
    {
     "name": "stdout",
     "output_type": "stream",
     "text": [
      "Accuracy: 0.86\n",
      "F1-score: 0.86\n",
      "Recall: 0.87\n",
      "Precision: 0.85\n"
     ]
    }
   ],
   "source": [
    "print(f'Accuracy: {accuracy:.2f}')\n",
    "print(f'F1-score: {f1:.2f}')\n",
    "print(f'Recall: {recall:.2f}')\n",
    "print(f'Precision: {precision:.2f}')"
   ]
  },
  {
   "cell_type": "markdown",
   "id": "4129f6a0",
   "metadata": {
    "id": "4129f6a0"
   },
   "source": [
    "# Notebook Questions:\n",
    "\n",
    "After completing the tasks in this notebook, take some time to reflect on the work you have done and answer the following questions. These questions are designed to help you think critically about the steps you took and the decisions you made.\n",
    "\n",
    "* **Feature Selection and Engineering**\n",
    "   - Which features did you find most important for predicting churn, and why do you think they are significant?\n",
    "   - Did you perform any feature engineering? If so, what new features did you create, and how did they improve the model performance?\n",
    "\n",
    "* **Model Selection**\n",
    "   - Why did you choose the specific ensemble methods you implemented? What are the advantages of using ensemble methods over single models?\n",
    "   - Compare the performance of different models you used. Which model performed the best, and what do you think contributed to its success?\n",
    "\n",
    "* **Model Evaluation**\n",
    "   - Which evaluation metrics did you use to assess the model performance, and why? What insights did these metrics provide about the models' strengths and weaknesses?\n"
   ]
  },
  {
   "cell_type": "code",
   "execution_count": null,
   "id": "46f95329",
   "metadata": {},
   "outputs": [],
   "source": []
  },
  {
   "cell_type": "markdown",
   "id": "5a4dd465",
   "metadata": {
    "id": "5a4dd465"
   },
   "source": [
    "# Answer here:"
   ]
  },
  {
   "cell_type": "markdown",
   "id": "e3f6bf58",
   "metadata": {
    "id": "e3f6bf58"
   },
   "source": [
    "Which features did you find most important for predicting churn, and why do you think they are significant?\n",
    "There are many features and tools that helped me make predictions\n",
    "- Did you perform any feature engineering? If so, what new features did you create, and how did they improve the model performance?\n",
    "We did a lot of work, including deleting unimportant columns, visualizing data, and building Moodle\n",
    "- Why did you choose the specific ensemble methods you implemented? What are the advantages of using ensemble methods over single models?\n",
    "In general, these combined methods have better performance and interpretability advantages compared to individual models\n",
    "-  - Compare the performance of different models you used. Which model performed the best, and what do you think contributed to its success?\n",
    "Random Forest: A granularity capable of dealing with numerical and categorical variables.\n",
    "Gradient Boosting: The best is powerful in dealing with non-linear relationships.\n",
    "AdaBoost: Good performance but less than others.\n",
    "-  - Which evaluation metrics did you use to assess the model performance, and why? What insights did these metrics provide about the models' strengths and weaknesses?\n",
    "Test accuracy: To measure the overall performance of models.\n",
    "Analysis of strengths and weaknesses:\n",
    "Discovering the weaknesses of models in dealing with certain types of data.\n",
    "Identify the advantages of each model and use them to improve performance.\n",
    "Results"
   ]
  }
 ],
 "metadata": {
  "colab": {
   "provenance": []
  },
  "kernelspec": {
   "display_name": "Python 3 (ipykernel)",
   "language": "python",
   "name": "python3"
  },
  "language_info": {
   "codemirror_mode": {
    "name": "ipython",
    "version": 3
   },
   "file_extension": ".py",
   "mimetype": "text/x-python",
   "name": "python",
   "nbconvert_exporter": "python",
   "pygments_lexer": "ipython3",
   "version": "3.9.13"
  }
 },
 "nbformat": 4,
 "nbformat_minor": 5
}
